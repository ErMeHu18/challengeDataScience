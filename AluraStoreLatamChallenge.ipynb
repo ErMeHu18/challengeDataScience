{
  "nbformat": 4,
  "nbformat_minor": 0,
  "metadata": {
    "colab": {
      "provenance": []
    },
    "kernelspec": {
      "name": "python3",
      "display_name": "Python 3"
    },
    "language_info": {
      "name": "python"
    }
  },
  "cells": [
    {
      "cell_type": "markdown",
      "source": [
        "### Importación de datos\n",
        "\n"
      ],
      "metadata": {
        "id": "RhEdWd9YUR6H"
      }
    },
    {
      "cell_type": "code",
      "execution_count": 46,
      "metadata": {
        "colab": {
          "base_uri": "https://localhost:8080/",
          "height": 310
        },
        "id": "T3EvaeQ_INIL",
        "outputId": "ffea1fef-755f-4866-a48f-66288929769e"
      },
      "outputs": [
        {
          "output_type": "execute_result",
          "data": {
            "text/plain": [
              "            Producto Categoría del Producto    Precio  Costo de envío  \\\n",
              "0  Asistente virtual           Electrónicos  164300.0          6900.0   \n",
              "1    Mesa de comedor                Muebles  192300.0          8400.0   \n",
              "2      Juego de mesa               Juguetes  209600.0         15900.0   \n",
              "3         Microondas      Electrodomésticos  757500.0         41000.0   \n",
              "4   Silla de oficina                Muebles  335200.0         20200.0   \n",
              "\n",
              "  Fecha de Compra         Vendedor Lugar de Compra  Calificación  \\\n",
              "0      16/01/2021      Pedro Gomez          Bogotá             4   \n",
              "1      18/05/2022  Beatriz Morales        Medellín             1   \n",
              "2      15/03/2021   Juan Fernandez       Cartagena             1   \n",
              "3      03/05/2022   Juan Fernandez            Cali             4   \n",
              "4      07/11/2020    Maria Alfonso        Medellín             5   \n",
              "\n",
              "       Método de pago  Cantidad de cuotas       lat       lon  \n",
              "0  Tarjeta de crédito                   8   4.60971 -74.08175  \n",
              "1  Tarjeta de crédito                   4   6.25184 -75.56359  \n",
              "2  Tarjeta de crédito                   1  10.39972 -75.51444  \n",
              "3               Nequi                   1   3.43722 -76.52250  \n",
              "4               Nequi                   1   6.25184 -75.56359  "
            ],
            "text/html": [
              "\n",
              "  <div id=\"df-5ba71eb1-5769-4184-aa35-6abfa067af76\" class=\"colab-df-container\">\n",
              "    <div>\n",
              "<style scoped>\n",
              "    .dataframe tbody tr th:only-of-type {\n",
              "        vertical-align: middle;\n",
              "    }\n",
              "\n",
              "    .dataframe tbody tr th {\n",
              "        vertical-align: top;\n",
              "    }\n",
              "\n",
              "    .dataframe thead th {\n",
              "        text-align: right;\n",
              "    }\n",
              "</style>\n",
              "<table border=\"1\" class=\"dataframe\">\n",
              "  <thead>\n",
              "    <tr style=\"text-align: right;\">\n",
              "      <th></th>\n",
              "      <th>Producto</th>\n",
              "      <th>Categoría del Producto</th>\n",
              "      <th>Precio</th>\n",
              "      <th>Costo de envío</th>\n",
              "      <th>Fecha de Compra</th>\n",
              "      <th>Vendedor</th>\n",
              "      <th>Lugar de Compra</th>\n",
              "      <th>Calificación</th>\n",
              "      <th>Método de pago</th>\n",
              "      <th>Cantidad de cuotas</th>\n",
              "      <th>lat</th>\n",
              "      <th>lon</th>\n",
              "    </tr>\n",
              "  </thead>\n",
              "  <tbody>\n",
              "    <tr>\n",
              "      <th>0</th>\n",
              "      <td>Asistente virtual</td>\n",
              "      <td>Electrónicos</td>\n",
              "      <td>164300.0</td>\n",
              "      <td>6900.0</td>\n",
              "      <td>16/01/2021</td>\n",
              "      <td>Pedro Gomez</td>\n",
              "      <td>Bogotá</td>\n",
              "      <td>4</td>\n",
              "      <td>Tarjeta de crédito</td>\n",
              "      <td>8</td>\n",
              "      <td>4.60971</td>\n",
              "      <td>-74.08175</td>\n",
              "    </tr>\n",
              "    <tr>\n",
              "      <th>1</th>\n",
              "      <td>Mesa de comedor</td>\n",
              "      <td>Muebles</td>\n",
              "      <td>192300.0</td>\n",
              "      <td>8400.0</td>\n",
              "      <td>18/05/2022</td>\n",
              "      <td>Beatriz Morales</td>\n",
              "      <td>Medellín</td>\n",
              "      <td>1</td>\n",
              "      <td>Tarjeta de crédito</td>\n",
              "      <td>4</td>\n",
              "      <td>6.25184</td>\n",
              "      <td>-75.56359</td>\n",
              "    </tr>\n",
              "    <tr>\n",
              "      <th>2</th>\n",
              "      <td>Juego de mesa</td>\n",
              "      <td>Juguetes</td>\n",
              "      <td>209600.0</td>\n",
              "      <td>15900.0</td>\n",
              "      <td>15/03/2021</td>\n",
              "      <td>Juan Fernandez</td>\n",
              "      <td>Cartagena</td>\n",
              "      <td>1</td>\n",
              "      <td>Tarjeta de crédito</td>\n",
              "      <td>1</td>\n",
              "      <td>10.39972</td>\n",
              "      <td>-75.51444</td>\n",
              "    </tr>\n",
              "    <tr>\n",
              "      <th>3</th>\n",
              "      <td>Microondas</td>\n",
              "      <td>Electrodomésticos</td>\n",
              "      <td>757500.0</td>\n",
              "      <td>41000.0</td>\n",
              "      <td>03/05/2022</td>\n",
              "      <td>Juan Fernandez</td>\n",
              "      <td>Cali</td>\n",
              "      <td>4</td>\n",
              "      <td>Nequi</td>\n",
              "      <td>1</td>\n",
              "      <td>3.43722</td>\n",
              "      <td>-76.52250</td>\n",
              "    </tr>\n",
              "    <tr>\n",
              "      <th>4</th>\n",
              "      <td>Silla de oficina</td>\n",
              "      <td>Muebles</td>\n",
              "      <td>335200.0</td>\n",
              "      <td>20200.0</td>\n",
              "      <td>07/11/2020</td>\n",
              "      <td>Maria Alfonso</td>\n",
              "      <td>Medellín</td>\n",
              "      <td>5</td>\n",
              "      <td>Nequi</td>\n",
              "      <td>1</td>\n",
              "      <td>6.25184</td>\n",
              "      <td>-75.56359</td>\n",
              "    </tr>\n",
              "  </tbody>\n",
              "</table>\n",
              "</div>\n",
              "    <div class=\"colab-df-buttons\">\n",
              "\n",
              "  <div class=\"colab-df-container\">\n",
              "    <button class=\"colab-df-convert\" onclick=\"convertToInteractive('df-5ba71eb1-5769-4184-aa35-6abfa067af76')\"\n",
              "            title=\"Convert this dataframe to an interactive table.\"\n",
              "            style=\"display:none;\">\n",
              "\n",
              "  <svg xmlns=\"http://www.w3.org/2000/svg\" height=\"24px\" viewBox=\"0 -960 960 960\">\n",
              "    <path d=\"M120-120v-720h720v720H120Zm60-500h600v-160H180v160Zm220 220h160v-160H400v160Zm0 220h160v-160H400v160ZM180-400h160v-160H180v160Zm440 0h160v-160H620v160ZM180-180h160v-160H180v160Zm440 0h160v-160H620v160Z\"/>\n",
              "  </svg>\n",
              "    </button>\n",
              "\n",
              "  <style>\n",
              "    .colab-df-container {\n",
              "      display:flex;\n",
              "      gap: 12px;\n",
              "    }\n",
              "\n",
              "    .colab-df-convert {\n",
              "      background-color: #E8F0FE;\n",
              "      border: none;\n",
              "      border-radius: 50%;\n",
              "      cursor: pointer;\n",
              "      display: none;\n",
              "      fill: #1967D2;\n",
              "      height: 32px;\n",
              "      padding: 0 0 0 0;\n",
              "      width: 32px;\n",
              "    }\n",
              "\n",
              "    .colab-df-convert:hover {\n",
              "      background-color: #E2EBFA;\n",
              "      box-shadow: 0px 1px 2px rgba(60, 64, 67, 0.3), 0px 1px 3px 1px rgba(60, 64, 67, 0.15);\n",
              "      fill: #174EA6;\n",
              "    }\n",
              "\n",
              "    .colab-df-buttons div {\n",
              "      margin-bottom: 4px;\n",
              "    }\n",
              "\n",
              "    [theme=dark] .colab-df-convert {\n",
              "      background-color: #3B4455;\n",
              "      fill: #D2E3FC;\n",
              "    }\n",
              "\n",
              "    [theme=dark] .colab-df-convert:hover {\n",
              "      background-color: #434B5C;\n",
              "      box-shadow: 0px 1px 3px 1px rgba(0, 0, 0, 0.15);\n",
              "      filter: drop-shadow(0px 1px 2px rgba(0, 0, 0, 0.3));\n",
              "      fill: #FFFFFF;\n",
              "    }\n",
              "  </style>\n",
              "\n",
              "    <script>\n",
              "      const buttonEl =\n",
              "        document.querySelector('#df-5ba71eb1-5769-4184-aa35-6abfa067af76 button.colab-df-convert');\n",
              "      buttonEl.style.display =\n",
              "        google.colab.kernel.accessAllowed ? 'block' : 'none';\n",
              "\n",
              "      async function convertToInteractive(key) {\n",
              "        const element = document.querySelector('#df-5ba71eb1-5769-4184-aa35-6abfa067af76');\n",
              "        const dataTable =\n",
              "          await google.colab.kernel.invokeFunction('convertToInteractive',\n",
              "                                                    [key], {});\n",
              "        if (!dataTable) return;\n",
              "\n",
              "        const docLinkHtml = 'Like what you see? Visit the ' +\n",
              "          '<a target=\"_blank\" href=https://colab.research.google.com/notebooks/data_table.ipynb>data table notebook</a>'\n",
              "          + ' to learn more about interactive tables.';\n",
              "        element.innerHTML = '';\n",
              "        dataTable['output_type'] = 'display_data';\n",
              "        await google.colab.output.renderOutput(dataTable, element);\n",
              "        const docLink = document.createElement('div');\n",
              "        docLink.innerHTML = docLinkHtml;\n",
              "        element.appendChild(docLink);\n",
              "      }\n",
              "    </script>\n",
              "  </div>\n",
              "\n",
              "\n",
              "    <div id=\"df-cda214ea-1ed4-44fb-b7aa-cb8ca49b31fc\">\n",
              "      <button class=\"colab-df-quickchart\" onclick=\"quickchart('df-cda214ea-1ed4-44fb-b7aa-cb8ca49b31fc')\"\n",
              "                title=\"Suggest charts\"\n",
              "                style=\"display:none;\">\n",
              "\n",
              "<svg xmlns=\"http://www.w3.org/2000/svg\" height=\"24px\"viewBox=\"0 0 24 24\"\n",
              "     width=\"24px\">\n",
              "    <g>\n",
              "        <path d=\"M19 3H5c-1.1 0-2 .9-2 2v14c0 1.1.9 2 2 2h14c1.1 0 2-.9 2-2V5c0-1.1-.9-2-2-2zM9 17H7v-7h2v7zm4 0h-2V7h2v10zm4 0h-2v-4h2v4z\"/>\n",
              "    </g>\n",
              "</svg>\n",
              "      </button>\n",
              "\n",
              "<style>\n",
              "  .colab-df-quickchart {\n",
              "      --bg-color: #E8F0FE;\n",
              "      --fill-color: #1967D2;\n",
              "      --hover-bg-color: #E2EBFA;\n",
              "      --hover-fill-color: #174EA6;\n",
              "      --disabled-fill-color: #AAA;\n",
              "      --disabled-bg-color: #DDD;\n",
              "  }\n",
              "\n",
              "  [theme=dark] .colab-df-quickchart {\n",
              "      --bg-color: #3B4455;\n",
              "      --fill-color: #D2E3FC;\n",
              "      --hover-bg-color: #434B5C;\n",
              "      --hover-fill-color: #FFFFFF;\n",
              "      --disabled-bg-color: #3B4455;\n",
              "      --disabled-fill-color: #666;\n",
              "  }\n",
              "\n",
              "  .colab-df-quickchart {\n",
              "    background-color: var(--bg-color);\n",
              "    border: none;\n",
              "    border-radius: 50%;\n",
              "    cursor: pointer;\n",
              "    display: none;\n",
              "    fill: var(--fill-color);\n",
              "    height: 32px;\n",
              "    padding: 0;\n",
              "    width: 32px;\n",
              "  }\n",
              "\n",
              "  .colab-df-quickchart:hover {\n",
              "    background-color: var(--hover-bg-color);\n",
              "    box-shadow: 0 1px 2px rgba(60, 64, 67, 0.3), 0 1px 3px 1px rgba(60, 64, 67, 0.15);\n",
              "    fill: var(--button-hover-fill-color);\n",
              "  }\n",
              "\n",
              "  .colab-df-quickchart-complete:disabled,\n",
              "  .colab-df-quickchart-complete:disabled:hover {\n",
              "    background-color: var(--disabled-bg-color);\n",
              "    fill: var(--disabled-fill-color);\n",
              "    box-shadow: none;\n",
              "  }\n",
              "\n",
              "  .colab-df-spinner {\n",
              "    border: 2px solid var(--fill-color);\n",
              "    border-color: transparent;\n",
              "    border-bottom-color: var(--fill-color);\n",
              "    animation:\n",
              "      spin 1s steps(1) infinite;\n",
              "  }\n",
              "\n",
              "  @keyframes spin {\n",
              "    0% {\n",
              "      border-color: transparent;\n",
              "      border-bottom-color: var(--fill-color);\n",
              "      border-left-color: var(--fill-color);\n",
              "    }\n",
              "    20% {\n",
              "      border-color: transparent;\n",
              "      border-left-color: var(--fill-color);\n",
              "      border-top-color: var(--fill-color);\n",
              "    }\n",
              "    30% {\n",
              "      border-color: transparent;\n",
              "      border-left-color: var(--fill-color);\n",
              "      border-top-color: var(--fill-color);\n",
              "      border-right-color: var(--fill-color);\n",
              "    }\n",
              "    40% {\n",
              "      border-color: transparent;\n",
              "      border-right-color: var(--fill-color);\n",
              "      border-top-color: var(--fill-color);\n",
              "    }\n",
              "    60% {\n",
              "      border-color: transparent;\n",
              "      border-right-color: var(--fill-color);\n",
              "    }\n",
              "    80% {\n",
              "      border-color: transparent;\n",
              "      border-right-color: var(--fill-color);\n",
              "      border-bottom-color: var(--fill-color);\n",
              "    }\n",
              "    90% {\n",
              "      border-color: transparent;\n",
              "      border-bottom-color: var(--fill-color);\n",
              "    }\n",
              "  }\n",
              "</style>\n",
              "\n",
              "      <script>\n",
              "        async function quickchart(key) {\n",
              "          const quickchartButtonEl =\n",
              "            document.querySelector('#' + key + ' button');\n",
              "          quickchartButtonEl.disabled = true;  // To prevent multiple clicks.\n",
              "          quickchartButtonEl.classList.add('colab-df-spinner');\n",
              "          try {\n",
              "            const charts = await google.colab.kernel.invokeFunction(\n",
              "                'suggestCharts', [key], {});\n",
              "          } catch (error) {\n",
              "            console.error('Error during call to suggestCharts:', error);\n",
              "          }\n",
              "          quickchartButtonEl.classList.remove('colab-df-spinner');\n",
              "          quickchartButtonEl.classList.add('colab-df-quickchart-complete');\n",
              "        }\n",
              "        (() => {\n",
              "          let quickchartButtonEl =\n",
              "            document.querySelector('#df-cda214ea-1ed4-44fb-b7aa-cb8ca49b31fc button');\n",
              "          quickchartButtonEl.style.display =\n",
              "            google.colab.kernel.accessAllowed ? 'block' : 'none';\n",
              "        })();\n",
              "      </script>\n",
              "    </div>\n",
              "\n",
              "    </div>\n",
              "  </div>\n"
            ],
            "application/vnd.google.colaboratory.intrinsic+json": {
              "type": "dataframe",
              "variable_name": "tienda",
              "summary": "{\n  \"name\": \"tienda\",\n  \"rows\": 2359,\n  \"fields\": [\n    {\n      \"column\": \"Producto\",\n      \"properties\": {\n        \"dtype\": \"category\",\n        \"num_unique_values\": 51,\n        \"samples\": [\n          \"Guitarra ac\\u00fastica\",\n          \"Bal\\u00f3n de baloncesto\",\n          \"Smartwatch\"\n        ],\n        \"semantic_type\": \"\",\n        \"description\": \"\"\n      }\n    },\n    {\n      \"column\": \"Categor\\u00eda del Producto\",\n      \"properties\": {\n        \"dtype\": \"category\",\n        \"num_unique_values\": 8,\n        \"samples\": [\n          \"Muebles\",\n          \"Deportes y diversi\\u00f3n\",\n          \"Electr\\u00f3nicos\"\n        ],\n        \"semantic_type\": \"\",\n        \"description\": \"\"\n      }\n    },\n    {\n      \"column\": \"Precio\",\n      \"properties\": {\n        \"dtype\": \"number\",\n        \"std\": 614686.7653873172,\n        \"min\": 7600.0,\n        \"max\": 2977000.0,\n        \"num_unique_values\": 1937,\n        \"samples\": [\n          2499400.0,\n          14800.0,\n          80500.0\n        ],\n        \"semantic_type\": \"\",\n        \"description\": \"\"\n      }\n    },\n    {\n      \"column\": \"Costo de env\\u00edo\",\n      \"properties\": {\n        \"dtype\": \"number\",\n        \"std\": 32860.0017825605,\n        \"min\": 0.0,\n        \"max\": 160800.0,\n        \"num_unique_values\": 753,\n        \"samples\": [\n          117800.0,\n          54700.0,\n          45600.0\n        ],\n        \"semantic_type\": \"\",\n        \"description\": \"\"\n      }\n    },\n    {\n      \"column\": \"Fecha de Compra\",\n      \"properties\": {\n        \"dtype\": \"object\",\n        \"num_unique_values\": 1018,\n        \"samples\": [\n          \"15/09/2022\",\n          \"03/06/2020\",\n          \"06/11/2021\"\n        ],\n        \"semantic_type\": \"\",\n        \"description\": \"\"\n      }\n    },\n    {\n      \"column\": \"Vendedor\",\n      \"properties\": {\n        \"dtype\": \"category\",\n        \"num_unique_values\": 14,\n        \"samples\": [\n          \"Juliana Costa\",\n          \"Mariana Herrera\",\n          \"Pedro Gomez\"\n        ],\n        \"semantic_type\": \"\",\n        \"description\": \"\"\n      }\n    },\n    {\n      \"column\": \"Lugar de Compra\",\n      \"properties\": {\n        \"dtype\": \"category\",\n        \"num_unique_values\": 19,\n        \"samples\": [\n          \"Bogot\\u00e1\",\n          \"Pereira\",\n          \"Neiva\"\n        ],\n        \"semantic_type\": \"\",\n        \"description\": \"\"\n      }\n    },\n    {\n      \"column\": \"Calificaci\\u00f3n\",\n      \"properties\": {\n        \"dtype\": \"number\",\n        \"std\": 1,\n        \"min\": 1,\n        \"max\": 5,\n        \"num_unique_values\": 5,\n        \"samples\": [\n          1,\n          2,\n          5\n        ],\n        \"semantic_type\": \"\",\n        \"description\": \"\"\n      }\n    },\n    {\n      \"column\": \"M\\u00e9todo de pago\",\n      \"properties\": {\n        \"dtype\": \"category\",\n        \"num_unique_values\": 4,\n        \"samples\": [\n          \"Nequi\",\n          \"Tarjeta de d\\u00e9bito\",\n          \"Tarjeta de cr\\u00e9dito\"\n        ],\n        \"semantic_type\": \"\",\n        \"description\": \"\"\n      }\n    },\n    {\n      \"column\": \"Cantidad de cuotas\",\n      \"properties\": {\n        \"dtype\": \"number\",\n        \"std\": 2,\n        \"min\": 1,\n        \"max\": 24,\n        \"num_unique_values\": 15,\n        \"samples\": [\n          7,\n          14,\n          8\n        ],\n        \"semantic_type\": \"\",\n        \"description\": \"\"\n      }\n    },\n    {\n      \"column\": \"lat\",\n      \"properties\": {\n        \"dtype\": \"number\",\n        \"std\": 2.2874452492678627,\n        \"min\": -4.21528,\n        \"max\": 11.54444,\n        \"num_unique_values\": 19,\n        \"samples\": [\n          4.60971,\n          4.81333,\n          2.9273\n        ],\n        \"semantic_type\": \"\",\n        \"description\": \"\"\n      }\n    },\n    {\n      \"column\": \"lon\",\n      \"properties\": {\n        \"dtype\": \"number\",\n        \"std\": 1.2178272727088486,\n        \"min\": -77.28111,\n        \"max\": -67.9239,\n        \"num_unique_values\": 19,\n        \"samples\": [\n          -74.08175,\n          -75.69611,\n          -75.28189\n        ],\n        \"semantic_type\": \"\",\n        \"description\": \"\"\n      }\n    }\n  ]\n}"
            }
          },
          "metadata": {},
          "execution_count": 46
        }
      ],
      "source": [
        "import pandas as pd\n",
        "\n",
        "url = \"https://raw.githubusercontent.com/alura-es-cursos/challenge1-data-science-latam/refs/heads/main/base-de-datos-challenge1-latam/tienda_1%20.csv\"\n",
        "url2 = \"https://raw.githubusercontent.com/alura-es-cursos/challenge1-data-science-latam/refs/heads/main/base-de-datos-challenge1-latam/tienda_2.csv\"\n",
        "url3 = \"https://raw.githubusercontent.com/alura-es-cursos/challenge1-data-science-latam/refs/heads/main/base-de-datos-challenge1-latam/tienda_3.csv\"\n",
        "url4 = \"https://raw.githubusercontent.com/alura-es-cursos/challenge1-data-science-latam/refs/heads/main/base-de-datos-challenge1-latam/tienda_4.csv\"\n",
        "\n",
        "tienda = pd.read_csv(url)\n",
        "tienda2 = pd.read_csv(url2)\n",
        "tienda3 = pd.read_csv(url3)\n",
        "tienda4 = pd.read_csv(url4)\n",
        "\n",
        "tienda.head()"
      ]
    },
    {
      "cell_type": "markdown",
      "source": [
        "#1. Análisis de facturación\n",
        "\n"
      ],
      "metadata": {
        "id": "X62IW3KFUIYm"
      }
    },
    {
      "cell_type": "code",
      "source": [
        "ITtienda = tienda[\"Precio\"].sum()\n",
        "ITtienda2 = tienda2[\"Precio\"].sum()\n",
        "ITtienda3 = tienda3[\"Precio\"].sum()\n",
        "ITtienda4 = tienda4[\"Precio\"].sum()\n"
      ],
      "metadata": {
        "id": "xykobSftV64I"
      },
      "execution_count": 47,
      "outputs": []
    },
    {
      "cell_type": "code",
      "source": [
        "print(\"Importe total de la tienda 1 = \" + str(ITtienda))\n",
        "print(\"Importe total de la tienda 2 = \" + str(ITtienda2))\n",
        "print(\"Importe total de la tienda 3 = \" + str(ITtienda3))\n",
        "print(\"Importe total de la tienda 4 = \" + str(ITtienda4))"
      ],
      "metadata": {
        "id": "KDyr8E71V3m-",
        "colab": {
          "base_uri": "https://localhost:8080/"
        },
        "outputId": "4f85efb5-257a-49c5-c95e-e5fe16db473b"
      },
      "execution_count": 48,
      "outputs": [
        {
          "output_type": "stream",
          "name": "stdout",
          "text": [
            "Importe total de la tienda 1 = 1150880400.0\n",
            "Importe total de la tienda 2 = 1116343500.0\n",
            "Importe total de la tienda 3 = 1098019600.0\n",
            "Importe total de la tienda 4 = 1038375700.0\n"
          ]
        }
      ]
    },
    {
      "cell_type": "markdown",
      "source": [
        "# 2. Ventas por categoría"
      ],
      "metadata": {
        "id": "2V_vcAPzWZmR"
      }
    },
    {
      "cell_type": "code",
      "source": [
        "CMPtienda = tienda['Categoría del Producto'].value_counts().idxmax()\n",
        "CMPtienda2 = tienda2['Categoría del Producto'].value_counts().idxmax()\n",
        "CMPtienda3 = tienda3['Categoría del Producto'].value_counts().idxmax()\n",
        "CMPtienda4 = tienda4['Categoría del Producto'].value_counts().idxmax()"
      ],
      "metadata": {
        "id": "A34YupIuYhfF"
      },
      "execution_count": 49,
      "outputs": []
    },
    {
      "cell_type": "code",
      "source": [
        "print(\"Categoría más vendida de la tienda 1 = \" + CMPtienda)\n",
        "print(\"Categoría más vendida de la tienda 2 = \" + CMPtienda2)\n",
        "print(\"Categoría más vendida de la tienda 3 = \" + CMPtienda3)\n",
        "print(\"Categoría más vendida de la tienda 4 = \" + CMPtienda4)"
      ],
      "metadata": {
        "id": "yZR6cOjXYSk1",
        "colab": {
          "base_uri": "https://localhost:8080/"
        },
        "outputId": "552d48ae-bfde-4dd3-fcce-705301cbd504"
      },
      "execution_count": 50,
      "outputs": [
        {
          "output_type": "stream",
          "name": "stdout",
          "text": [
            "Categoría más vendida de la tienda 1 = Muebles\n",
            "Categoría más vendida de la tienda 2 = Muebles\n",
            "Categoría más vendida de la tienda 3 = Muebles\n",
            "Categoría más vendida de la tienda 4 = Muebles\n"
          ]
        }
      ]
    },
    {
      "cell_type": "markdown",
      "source": [
        "# 3. Calificación promedio de la tienda\n"
      ],
      "metadata": {
        "id": "Rq6tU_xSY3jk"
      }
    },
    {
      "cell_type": "code",
      "source": [
        "CPtienda = round(tienda[\"Calificación\"].sum()/len(tienda),2)\n",
        "CPtienda2 = round(tienda2[\"Calificación\"].sum()/len(tienda2),2)\n",
        "CPtienda3 = round(tienda3[\"Calificación\"].sum()/len(tienda3),2)\n",
        "CPtienda4 = round(tienda4[\"Calificación\"].sum()/len(tienda4),2)\n",
        "\n",
        "\n"
      ],
      "metadata": {
        "id": "bh3jjjJwY5MU"
      },
      "execution_count": 64,
      "outputs": []
    },
    {
      "cell_type": "code",
      "source": [
        "print(\"Calificación promedio de la tienda 1 = \" + str(CPtienda))\n",
        "print(\"Calificación promedio de la tienda 2 = \" + str(CPtienda2))\n",
        "print(\"Calificación promedio de la tienda 3 = \" + str(CPtienda3))\n",
        "print(\"Calificación promedio de la tienda 4 = \" + str(CPtienda4))"
      ],
      "metadata": {
        "id": "I0KkjPoTY88F",
        "colab": {
          "base_uri": "https://localhost:8080/"
        },
        "outputId": "af314c15-aac7-44bd-e258-29d32e50051c"
      },
      "execution_count": 66,
      "outputs": [
        {
          "output_type": "stream",
          "name": "stdout",
          "text": [
            "Calificación promedio de la tienda 1 = 3.98\n",
            "Calificación promedio de la tienda 2 = 4.04\n",
            "Calificación promedio de la tienda 3 = 4.05\n",
            "Calificación promedio de la tienda 4 = 4.0\n"
          ]
        }
      ]
    },
    {
      "cell_type": "markdown",
      "source": [
        "# 4. Productos más y menos vendidos"
      ],
      "metadata": {
        "id": "DmNp1KPBZCm-"
      }
    },
    {
      "cell_type": "code",
      "source": [
        "conteo = tienda['Producto'].value_counts()\n",
        "conteo2 = tienda2['Producto'].value_counts()\n",
        "conteo3 = tienda3['Producto'].value_counts()\n",
        "conteo4 = tienda4['Producto'].value_counts()\n",
        "maximo = conteo.max()\n",
        "maximo2 = conteo2.max()\n",
        "maximo3 = conteo3.max()\n",
        "maximo4 = conteo4.max()\n",
        "minimo = conteo.min()\n",
        "minimo2 = conteo2.min()\n",
        "minimo3 = conteo3.min()\n",
        "minimo4 = conteo4.min()\n",
        "\n",
        "productos_mas_populares = conteo[conteo == maximo]\n",
        "productos_mas_populares2 = conteo2[conteo2 == maximo2]\n",
        "productos_mas_populares3 = conteo3[conteo3 == maximo3]\n",
        "productos_mas_populares4 = conteo4[conteo4 == maximo4]\n",
        "productos_menos_populares = conteo[conteo == minimo]\n",
        "productos_menos_populares2 = conteo2[conteo2 == minimo2]\n",
        "productos_menos_populares3 = conteo3[conteo3 == minimo3]\n",
        "productos_menos_populares4 = conteo4[conteo4 == minimo4]\n",
        "\n",
        "lista_Maspopulares = productos_mas_populares.index.tolist()\n",
        "lista_Maspopulares2 = productos_mas_populares2.index.tolist()\n",
        "lista_Maspopulares3 = productos_mas_populares3.index.tolist()\n",
        "lista_Maspopulares4 = productos_mas_populares4.index.tolist()\n",
        "lista_Menpopulares = productos_menos_populares.index.tolist()\n",
        "lista_Menpopulares2 = productos_menos_populares2.index.tolist()\n",
        "lista_Menpopulares3 = productos_menos_populares3.index.tolist()\n",
        "lista_Menpopulares4 = productos_menos_populares4.index.tolist()\n",
        "\n"
      ],
      "metadata": {
        "id": "qoyjqijQZHfF"
      },
      "execution_count": 53,
      "outputs": []
    },
    {
      "cell_type": "code",
      "source": [
        "print(\"Productos más populares tienda 1:\", lista_Maspopulares)\n",
        "print(\"Productos más populares tienda 2:\", lista_Maspopulares2)\n",
        "print(\"Productos más populares tienda 3:\", lista_Maspopulares3)\n",
        "print(\"Productos más populares tienda 4:\", lista_Maspopulares4)\n",
        "print(\"Productos menos populares tienda 1:\", lista_Menpopulares)\n",
        "print(\"Productos menos populares tienda 2:\", lista_Menpopulares2)\n",
        "print(\"Productos menos populares tienda 3:\", lista_Menpopulares3)\n",
        "print(\"Productos menos populares tienda 4:\", lista_Menpopulares4)\n"
      ],
      "metadata": {
        "id": "0Sw3sd4IZIGW",
        "colab": {
          "base_uri": "https://localhost:8080/"
        },
        "outputId": "2b171ea1-7fd6-4df0-ad68-0c6cc3874cd4"
      },
      "execution_count": 54,
      "outputs": [
        {
          "output_type": "stream",
          "name": "stdout",
          "text": [
            "Productos más populares tienda 1: ['Microondas', 'TV LED UHD 4K', 'Armario']\n",
            "Productos más populares tienda 2: ['Iniciando en programación']\n",
            "Productos más populares tienda 3: ['Kit de bancas']\n",
            "Productos más populares tienda 4: ['Cama box']\n",
            "Productos menos populares tienda 1: ['Auriculares con micrófono', 'Celular ABXY']\n",
            "Productos menos populares tienda 2: ['Juego de mesa']\n",
            "Productos menos populares tienda 3: ['Bloques de construcción']\n",
            "Productos menos populares tienda 4: ['Guitarra eléctrica']\n"
          ]
        }
      ]
    },
    {
      "cell_type": "markdown",
      "source": [
        "# 5. Envío promedio por tienda"
      ],
      "metadata": {
        "id": "Fl0cGi3bZKqU"
      }
    },
    {
      "cell_type": "code",
      "source": [
        "CEPtienda = round(tienda[\"Costo de envío\"].sum()/len(tienda),2)\n",
        "CEPtienda2 = round(tienda2[\"Costo de envío\"].sum()/len(tienda2),2)\n",
        "CEPtienda3 = round(tienda3[\"Costo de envío\"].sum()/len(tienda3),2)\n",
        "CEPtienda4 = round(tienda4[\"Costo de envío\"].sum()/len(tienda4),2)"
      ],
      "metadata": {
        "id": "S2JeaCykZNy9"
      },
      "execution_count": 78,
      "outputs": []
    },
    {
      "cell_type": "code",
      "source": [
        "print(\"Costo de envio promedio de la tienda 1 = \" + str(CEPtienda))\n",
        "print(\"Costo de envio promedio de la tienda 2 = \" + str(CEPtienda2))\n",
        "print(\"Costo de envio promedio de la tienda 3 = \" + str(CEPtienda3))\n",
        "print(\"Costo de envio promedio de la tienda 4 = \" + str(CEPtienda4))"
      ],
      "metadata": {
        "id": "0tSdCie9ZQlt",
        "colab": {
          "base_uri": "https://localhost:8080/"
        },
        "outputId": "b7bcfa40-5ca6-4877-a6ae-32be2a9fb0bc"
      },
      "execution_count": 79,
      "outputs": [
        {
          "output_type": "stream",
          "name": "stdout",
          "text": [
            "Costo de envio promedio de la tienda 1 = 26018.61\n",
            "Costo de envio promedio de la tienda 2 = 25216.24\n",
            "Costo de envio promedio de la tienda 3 = 24805.68\n",
            "Costo de envio promedio de la tienda 4 = 23459.46\n"
          ]
        }
      ]
    },
    {
      "cell_type": "markdown",
      "source": [
        "## 6 Graficos\n",
        "\n"
      ],
      "metadata": {
        "id": "bd_LfYgOtRgi"
      }
    },
    {
      "cell_type": "code",
      "source": [
        "import matplotlib.pyplot as plt"
      ],
      "metadata": {
        "id": "nIIQ5VaatPMi"
      },
      "execution_count": 13,
      "outputs": []
    },
    {
      "cell_type": "code",
      "source": [
        "valores = [ITtienda, ITtienda2, ITtienda3, ITtienda4]\n",
        "etiquetas = [\"Tienda 1\", \"Tienda 2\", \"Tienda 3\", \"Tienda 4\"]\n",
        "\n",
        "plt.figure(figsize=(8, 6))\n",
        "barras = plt.bar(etiquetas, valores, color='steelblue')\n",
        "\n",
        "plt.title(\"Importe total por tienda\")\n",
        "plt.xlabel(\"Tienda\")\n",
        "plt.ylabel(\"Importe (en miles de millones)\")\n",
        "plt.grid(axis='y')\n",
        "plt.ticklabel_format(style='plain', axis='y')  # Evita notación científica\n",
        "\n",
        "# Mostrar los valores encima de cada barra con separador de miles\n",
        "for barra, valor in zip(barras, valores):\n",
        "    plt.text(barra.get_x() + barra.get_width() / 2,\n",
        "             barra.get_height() + 5000000,  # Ajusta la altura para que el texto quede encima\n",
        "             f\"{valor:,.0f}\",  # Número con comas y sin decimales\n",
        "             ha='center', va='bottom', fontsize=10, color='black')\n",
        "\n",
        "plt.tight_layout()\n",
        "plt.show()\n",
        "\n",
        "\n"
      ],
      "metadata": {
        "colab": {
          "base_uri": "https://localhost:8080/",
          "height": 607
        },
        "id": "2nTO5QhWtyNy",
        "outputId": "24113b01-3824-4945-e92a-d5b66c4f7458"
      },
      "execution_count": 77,
      "outputs": [
        {
          "output_type": "display_data",
          "data": {
            "text/plain": [
              "<Figure size 800x600 with 1 Axes>"
            ],
            "image/png": "[encoded data removed]"
          },
          "metadata": {}
        }
      ]
    },
    {
      "cell_type": "markdown",
      "source": [
        "### En este grafico se puede apreciar que la Tienda 4 es la menos importe total ha logrado a travez del tiempo por lo que pppodria ser la mejor eleccion a vender"
      ],
      "metadata": {
        "id": "Uh7QuwF36Zlj"
      }
    },
    {
      "cell_type": "code",
      "source": [
        "valoresCP = [CPtienda, CPtienda2, CPtienda3, CPtienda4]\n",
        "etiquetasCP = [\"Tienda 1\", \"Tienda 2\", \"Tienda 3\", \"Tienda 4\"]\n",
        "\n",
        "plt.figure(figsize=(8, 6))\n",
        "plt.bar(etiquetasCP, valoresCP, color='#b8860b')\n",
        "\n",
        "# Títulos y etiquetas corregidas\n",
        "plt.title(\"Calificación promedio por tienda\")\n",
        "plt.xlabel(\"Tienda\")\n",
        "plt.ylabel(\"Calificación promedio\")\n",
        "plt.ylim(0, 5)  # Asumiendo que la calificación es sobre 5\n",
        "plt.grid(axis='y')\n",
        "\n",
        "# Mostrar los valores encima de cada barra con 2 decimales\n",
        "for i, valor in enumerate(valoresCP):\n",
        "    plt.text(i, valor + 0.05, f\"{valor:.2f}\", ha='center')\n",
        "\n",
        "plt.tight_layout()\n",
        "plt.show()\n",
        "\n",
        "\n"
      ],
      "metadata": {
        "colab": {
          "base_uri": "https://localhost:8080/",
          "height": 607
        },
        "id": "-BZtxMu5xCZL",
        "outputId": "ae61e3ce-3fe3-490a-cd65-26db756c021f"
      },
      "execution_count": 71,
      "outputs": [
        {
          "output_type": "display_data",
          "data": {
            "text/plain": [
              "<Figure size 800x600 with 1 Axes>"
            ],
            "image/png": "[encoded data removed]"
          },
          "metadata": {}
        }
      ]
    },
    {
      "cell_type": "markdown",
      "source": [
        "### Este grafico nos muestra que la calificacion promedio mas baja le pertenecece a la tienda 1 pero la que le sigue es tienda 4 por lo que sigue siendo la mejor eleccion a vender ya que la tienda 1 en cuesto de importe total es la que tiene mayor importe"
      ],
      "metadata": {
        "id": "XajIB5FJ7Zz0"
      }
    },
    {
      "cell_type": "code",
      "source": [
        "valores = [CEPtienda, CEPtienda2, CEPtienda3, CEPtienda4]\n",
        "etiquetas = [\"Tienda 1\", \"Tienda 2\", \"Tienda 3\", \"Tienda 4\"]\n",
        "\n",
        "# Crear gráfico\n",
        "plt.figure(figsize=(8, 6))\n",
        "barras = plt.bar(etiquetas, valores, color='mediumseagreen')\n",
        "\n",
        "# Títulos y etiquetas\n",
        "plt.title(\"Costo de envío promedio por tienda\")\n",
        "plt.xlabel(\"Tienda\")\n",
        "plt.ylabel(\"Costo promedio (S/.)\")\n",
        "plt.grid(axis='y')\n",
        "plt.ticklabel_format(style='plain', axis='y')  # Evita notación científica\n",
        "\n",
        "# Mostrar los valores encima de cada barra con 2 decimales\n",
        "for barra, valor in zip(barras, valores):\n",
        "    plt.text(barra.get_x() + barra.get_width() / 2,\n",
        "             barra.get_height() + 200,\n",
        "             f\"S/ {valor:,.2f}\",\n",
        "             ha='center', va='bottom', fontsize=10)\n",
        "\n",
        "plt.tight_layout()\n",
        "plt.show()"
      ],
      "metadata": {
        "colab": {
          "base_uri": "https://localhost:8080/",
          "height": 607
        },
        "id": "ZLhkzlQB5E8k",
        "outputId": "15f74239-b947-4753-f4e4-dd612851ca59"
      },
      "execution_count": 81,
      "outputs": [
        {
          "output_type": "display_data",
          "data": {
            "text/plain": [
              "<Figure size 800x600 with 1 Axes>"
            ],
            "image/png": "[encoded data removed]"
          },
          "metadata": {}
        }
      ]
    },
    {
      "cell_type": "markdown",
      "source": [
        "### Este grafico muestra que el costo de envio promedio de la tienda 4 es el mas bajo aun asi considerando las otros valores aun la tienda 4 deberia ser la elegida para venderse por la diferencia en la cantidad del importe"
      ],
      "metadata": {
        "id": "Ck-8_P0k_c6F"
      }
    },
    {
      "cell_type": "markdown",
      "source": [
        "### Informe Final"
      ],
      "metadata": {
        "id": "VQa3ebkyBPU0"
      }
    },
    {
      "cell_type": "markdown",
      "source": [
        "Luego de analizar creo que la mejor elección es la tienda 4 ya que es la que menor importe ha generado, esta como la segunda tienda con peor calificacion, por otro lado tiene un bajo costo promedio de envio pero eso en el futuro se ppodria solucionar contratando con una empresa para reducir costo o sino cobrando un adicional por ello creo que la tienda4 es la mejor opcion para vender."
      ],
      "metadata": {
        "id": "JiMgWJ8bBS_9"
      }
    }
  ]
}